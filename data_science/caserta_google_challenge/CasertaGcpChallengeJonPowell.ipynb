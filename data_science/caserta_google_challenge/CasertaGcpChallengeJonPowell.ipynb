{
 "cells": [
  {
   "cell_type": "markdown",
   "metadata": {},
   "source": [
    "<H2>Caserta GCP Challenge</H2>\n",
    "\n",
    "Summary: \n",
    "  1. query API to get current market JSON & convert to csv file (see Python script)\n",
    "  2. Import into Cloud Storage (manually using console, could automate) \n",
    "  3. Import Cloud Storage file into BigQuery\n",
    "  4. Do requisite queries"
   ]
  },
  {
   "cell_type": "markdown",
   "metadata": {},
   "source": [
    "Pull in Coin cap csv file"
   ]
  },
  {
   "cell_type": "code",
   "execution_count": 25,
   "metadata": {
    "collapsed": false
   },
   "outputs": [],
   "source": [
    "%%gcs read --object gs://caserta_gcp_challenge/CoinMarketCap.csv --variable cccaps"
   ]
  },
  {
   "cell_type": "markdown",
   "metadata": {},
   "source": [
    "Ensure it has correct headers and some data..."
   ]
  },
  {
   "cell_type": "code",
   "execution_count": 23,
   "metadata": {
    "collapsed": false
   },
   "outputs": [
    {
     "name": "stdout",
     "output_type": "stream",
     "text": [
      "id,name,symbol,rank,price_usd,price_btc,market_cap_usd,available_supply,total_supply,max_supply,percent_change_1h,percent_change_24h,percent_change_7d,last_updated,volume_24h_usd\r\n",
      "bitcoin,Bitcoin,BTC,1,9522.89,1.0,161009214964,16907600.0,16907600.0,21000000.0,-4.37,-6.91,-12.12,1520528665,8141870000.0\r\n",
      "ethereum,Ethereum,ETH,2,719.519,0.0769281,70558170853.0,98062971.0,98062971.0,,-4.51,-5.27,-17.56,1520528652,2052920000.0\r\n",
      "ripple,Ripple,XRP,3,0.842906,0.00009012,32950844859.0,39091956706.0,99992\n"
     ]
    }
   ],
   "source": [
    "print(cccaps[:500])"
   ]
  },
  {
   "cell_type": "markdown",
   "metadata": {},
   "source": [
    "Python imports before pulling caps csv data from Cloud Storage"
   ]
  },
  {
   "cell_type": "code",
   "execution_count": 26,
   "metadata": {
    "collapsed": true
   },
   "outputs": [],
   "source": [
    "from google.datalab import Context\n",
    "import google.datalab.bigquery as bq\n",
    "import google.datalab.storage as storage\n",
    "import pandas as pd\n",
    "try:\n",
    "  from StringIO import StringIO\n",
    "except ImportError:\n",
    "  from io import BytesIO as StringIO"
   ]
  },
  {
   "cell_type": "markdown",
   "metadata": {},
   "source": [
    "Import CSV into BigQuery, create schema first"
   ]
  },
  {
   "cell_type": "code",
   "execution_count": 30,
   "metadata": {
    "collapsed": true
   },
   "outputs": [],
   "source": [
    "df = pd.read_csv(StringIO(cccaps))\n",
    "schema = bq.Schema.from_data(df)"
   ]
  },
  {
   "cell_type": "markdown",
   "metadata": {},
   "source": [
    "Create dataset & new table"
   ]
  },
  {
   "cell_type": "code",
   "execution_count": 46,
   "metadata": {
    "collapsed": true
   },
   "outputs": [],
   "source": [
    "bq.Dataset('coin_data').create()\n",
    "coin_table = bq.Table('coin_data.caps').create(schema = schema, overwrite = True)"
   ]
  },
  {
   "cell_type": "markdown",
   "metadata": {},
   "source": [
    "Finally, load the csv data"
   ]
  },
  {
   "cell_type": "code",
   "execution_count": 47,
   "metadata": {
    "collapsed": false
   },
   "outputs": [
    {
     "data": {
      "text/plain": [
       "Job sage-webbing-197320/job_S8n60_vcb7Ob90XPoj0b8ArA_IS0 completed"
      ]
     },
     "execution_count": 47,
     "metadata": {},
     "output_type": "execute_result"
    }
   ],
   "source": [
    "coin_table.load('gs://caserta_gcp_challenge/CoinMarketCap.csv', mode='append',\n",
    "                  source_format = 'csv', csv_options=bq.CSVOptions(skip_leading_rows = 1))"
   ]
  },
  {
   "cell_type": "markdown",
   "metadata": {},
   "source": [
    "Ensure data was loaded and looks reasonable (transition into BigQuery, setting up dataset first...)"
   ]
  },
  {
   "cell_type": "code",
   "execution_count": 52,
   "metadata": {
    "collapsed": true
   },
   "outputs": [],
   "source": [
    "%%bq query -n coin_data\n",
    "SELECT * FROM coin_data.caps LIMIT 3"
   ]
  },
  {
   "cell_type": "markdown",
   "metadata": {},
   "source": [
    "Keep line below separate and use single '%'"
   ]
  },
  {
   "cell_type": "code",
   "execution_count": 53,
   "metadata": {
    "collapsed": false
   },
   "outputs": [
    {
     "data": {
      "text/html": [
       "\n",
       "    <div class=\"bqtv\" id=\"2_152053228216\"><table><tr><th>id</th><th>name</th><th>symbol</th><th>rank</th><th>price_usd</th><th>price_btc</th><th>market_cap_usd</th><th>available_supply</th><th>total_supply</th><th>max_supply</th><th>percent_change_1h</th><th>percent_change_24h</th><th>percent_change_7d</th><th>last_updated</th><th>volume_24h_usd</th></tr><tr><td>dogecoin</td><td>Dogecoin</td><td>DOGE</td><td>37</td><td>0.00406968</td><td>4.4e-07</td><td>461919021.0</td><td>1.13502540888e+11</td><td>1.13502540888e+11</td><td>&nbsp;</td><td>-4.18</td><td>-5.68</td><td>-34.14</td><td>1520528641</td><td>19461600.0</td></tr><tr><td>monacoin</td><td>MonaCoin</td><td>MONA</td><td>63</td><td>4.30056</td><td>0.0004598</td><td>249106927.0</td><td>57924300.0</td><td>57924300.0</td><td>&nbsp;</td><td>-1.68</td><td>-6.3</td><td>-21.72</td><td>1520528642</td><td>5006090.0</td></tr><tr><td>monero</td><td>Monero</td><td>XMR</td><td>9</td><td>297.879</td><td>0.0318481</td><td>4707145571.0</td><td>15802207.0</td><td>15802207.0</td><td>&nbsp;</td><td>-5.2</td><td>-12.14</td><td>-1.89</td><td>1520528642</td><td>133431000.0</td></tr></table></div>\n",
       "    <br />(rows: 3, time: 1.1s,    11KB processed, job: job_SKDS7XnUg6R0TwZtqq9BnLRWcsZI)<br />\n",
       "    <script src=\"/static/components/requirejs/require.js\"></script>\n",
       "    <script>\n",
       "      require.config({\n",
       "        paths: {\n",
       "          base: '/static/base',\n",
       "          d3: '//cdnjs.cloudflare.com/ajax/libs/d3/3.4.13/d3',\n",
       "          plotly: 'https://cdn.plot.ly/plotly-1.5.1.min.js?noext',\n",
       "          jquery: '//ajax.googleapis.com/ajax/libs/jquery/2.0.0/jquery.min'\n",
       "        },\n",
       "        map: {\n",
       "          '*': {\n",
       "            datalab: 'nbextensions/gcpdatalab'\n",
       "          }\n",
       "        },\n",
       "        shim: {\n",
       "          plotly: {\n",
       "            deps: ['d3', 'jquery'],\n",
       "            exports: 'plotly'\n",
       "          }\n",
       "        }\n",
       "      });\n",
       "\n",
       "      require(['datalab/charting', 'datalab/element!2_152053228216', 'base/js/events',\n",
       "          'datalab/style!/nbextensions/gcpdatalab/charting.css'],\n",
       "        function(charts, dom, events) {\n",
       "          charts.render('gcharts', dom, events, 'table', [], {\"rows\": [{\"c\": [{\"v\": \"dogecoin\"}, {\"v\": \"Dogecoin\"}, {\"v\": \"DOGE\"}, {\"v\": 37}, {\"v\": 0.00406968}, {\"v\": 4.4e-07}, {\"v\": 461919021.0}, {\"v\": 113502540888.0}, {\"v\": 113502540888.0}, {\"v\": null}, {\"v\": -4.18}, {\"v\": -5.68}, {\"v\": -34.14}, {\"v\": 1520528641}, {\"v\": 19461600.0}]}, {\"c\": [{\"v\": \"monacoin\"}, {\"v\": \"MonaCoin\"}, {\"v\": \"MONA\"}, {\"v\": 63}, {\"v\": 4.30056}, {\"v\": 0.0004598}, {\"v\": 249106927.0}, {\"v\": 57924300.0}, {\"v\": 57924300.0}, {\"v\": null}, {\"v\": -1.68}, {\"v\": -6.3}, {\"v\": -21.72}, {\"v\": 1520528642}, {\"v\": 5006090.0}]}, {\"c\": [{\"v\": \"monero\"}, {\"v\": \"Monero\"}, {\"v\": \"XMR\"}, {\"v\": 9}, {\"v\": 297.879}, {\"v\": 0.0318481}, {\"v\": 4707145571.0}, {\"v\": 15802207.0}, {\"v\": 15802207.0}, {\"v\": null}, {\"v\": -5.2}, {\"v\": -12.14}, {\"v\": -1.89}, {\"v\": 1520528642}, {\"v\": 133431000.0}]}], \"cols\": [{\"type\": \"string\", \"id\": \"id\", \"label\": \"id\"}, {\"type\": \"string\", \"id\": \"name\", \"label\": \"name\"}, {\"type\": \"string\", \"id\": \"symbol\", \"label\": \"symbol\"}, {\"type\": \"number\", \"id\": \"rank\", \"label\": \"rank\"}, {\"type\": \"number\", \"id\": \"price_usd\", \"label\": \"price_usd\"}, {\"type\": \"number\", \"id\": \"price_btc\", \"label\": \"price_btc\"}, {\"type\": \"number\", \"id\": \"market_cap_usd\", \"label\": \"market_cap_usd\"}, {\"type\": \"number\", \"id\": \"available_supply\", \"label\": \"available_supply\"}, {\"type\": \"number\", \"id\": \"total_supply\", \"label\": \"total_supply\"}, {\"type\": \"number\", \"id\": \"max_supply\", \"label\": \"max_supply\"}, {\"type\": \"number\", \"id\": \"percent_change_1h\", \"label\": \"percent_change_1h\"}, {\"type\": \"number\", \"id\": \"percent_change_24h\", \"label\": \"percent_change_24h\"}, {\"type\": \"number\", \"id\": \"percent_change_7d\", \"label\": \"percent_change_7d\"}, {\"type\": \"number\", \"id\": \"last_updated\", \"label\": \"last_updated\"}, {\"type\": \"number\", \"id\": \"volume_24h_usd\", \"label\": \"volume_24h_usd\"}]},\n",
       "            {\n",
       "              pageSize: 25,\n",
       "              cssClassNames:  {\n",
       "                tableRow: 'gchart-table-row',\n",
       "                headerRow: 'gchart-table-headerrow',\n",
       "                oddTableRow: 'gchart-table-oddrow',\n",
       "                selectedTableRow: 'gchart-table-selectedrow',\n",
       "                hoverTableRow: 'gchart-table-hoverrow',\n",
       "                tableCell: 'gchart-table-cell',\n",
       "                headerCell: 'gchart-table-headercell',\n",
       "                rowNumberCell: 'gchart-table-rownumcell'\n",
       "              }\n",
       "            },\n",
       "            {source_index: 1, fields: 'id,name,symbol,rank,price_usd,price_btc,market_cap_usd,available_supply,total_supply,max_supply,percent_change_1h,percent_change_24h,percent_change_7d,last_updated,volume_24h_usd'},\n",
       "            0,\n",
       "            3);\n",
       "        }\n",
       "      );\n",
       "    </script>\n",
       "  "
      ],
      "text/plain": [
       "QueryResultsTable job_SKDS7XnUg6R0TwZtqq9BnLRWcsZI"
      ]
     },
     "execution_count": 53,
     "metadata": {},
     "output_type": "execute_result"
    }
   ],
   "source": [
    "%bq execute -q coin_data"
   ]
  },
  {
   "cell_type": "markdown",
   "metadata": {},
   "source": [
    "Do query from 6a) How many coins have a USD price greater than $8,000?"
   ]
  },
  {
   "cell_type": "code",
   "execution_count": 54,
   "metadata": {
    "collapsed": true
   },
   "outputs": [],
   "source": [
    "%%bq query -n coin_data\n",
    "SELECT name, price_usd FROM coin_data.caps\n",
    "WHERE price_usd > 8000"
   ]
  },
  {
   "cell_type": "code",
   "execution_count": 55,
   "metadata": {
    "collapsed": false
   },
   "outputs": [
    {
     "data": {
      "text/html": [
       "\n",
       "    <div class=\"bqtv\" id=\"3_152053244485\"><table><tr><th>name</th><th>price_usd</th></tr><tr><td>Bitcoin</td><td>9522.89</td></tr></table></div>\n",
       "    <br />(rows: 1, time: 1.2s,     1KB processed, job: job_7sOqWfL4XnXaAUmikmyx8HxaQnhp)<br />\n",
       "    <script src=\"/static/components/requirejs/require.js\"></script>\n",
       "    <script>\n",
       "      require.config({\n",
       "        paths: {\n",
       "          base: '/static/base',\n",
       "          d3: '//cdnjs.cloudflare.com/ajax/libs/d3/3.4.13/d3',\n",
       "          plotly: 'https://cdn.plot.ly/plotly-1.5.1.min.js?noext',\n",
       "          jquery: '//ajax.googleapis.com/ajax/libs/jquery/2.0.0/jquery.min'\n",
       "        },\n",
       "        map: {\n",
       "          '*': {\n",
       "            datalab: 'nbextensions/gcpdatalab'\n",
       "          }\n",
       "        },\n",
       "        shim: {\n",
       "          plotly: {\n",
       "            deps: ['d3', 'jquery'],\n",
       "            exports: 'plotly'\n",
       "          }\n",
       "        }\n",
       "      });\n",
       "\n",
       "      require(['datalab/charting', 'datalab/element!3_152053244485', 'base/js/events',\n",
       "          'datalab/style!/nbextensions/gcpdatalab/charting.css'],\n",
       "        function(charts, dom, events) {\n",
       "          charts.render('gcharts', dom, events, 'table', [], {\"rows\": [{\"c\": [{\"v\": \"Bitcoin\"}, {\"v\": 9522.89}]}], \"cols\": [{\"type\": \"string\", \"id\": \"name\", \"label\": \"name\"}, {\"type\": \"number\", \"id\": \"price_usd\", \"label\": \"price_usd\"}]},\n",
       "            {\n",
       "              pageSize: 25,\n",
       "              cssClassNames:  {\n",
       "                tableRow: 'gchart-table-row',\n",
       "                headerRow: 'gchart-table-headerrow',\n",
       "                oddTableRow: 'gchart-table-oddrow',\n",
       "                selectedTableRow: 'gchart-table-selectedrow',\n",
       "                hoverTableRow: 'gchart-table-hoverrow',\n",
       "                tableCell: 'gchart-table-cell',\n",
       "                headerCell: 'gchart-table-headercell',\n",
       "                rowNumberCell: 'gchart-table-rownumcell'\n",
       "              }\n",
       "            },\n",
       "            {source_index: 2, fields: 'name,price_usd'},\n",
       "            0,\n",
       "            1);\n",
       "        }\n",
       "      );\n",
       "    </script>\n",
       "  "
      ],
      "text/plain": [
       "QueryResultsTable job_7sOqWfL4XnXaAUmikmyx8HxaQnhp"
      ]
     },
     "execution_count": 55,
     "metadata": {},
     "output_type": "execute_result"
    }
   ],
   "source": [
    "%bq execute -q coin_data"
   ]
  },
  {
   "cell_type": "markdown",
   "metadata": {},
   "source": [
    "Do query from 6b) What is the total market cap of the top 100 cryptocurrencies (in USD)?\n",
    "NOTE: we know there are only 100, so we won't cheat and do a simple sum"
   ]
  },
  {
   "cell_type": "code",
   "execution_count": 56,
   "metadata": {
    "collapsed": true
   },
   "outputs": [],
   "source": [
    "%%bq query -n coin_data\n",
    "#standardSQL\n",
    "WITH top100 AS (\n",
    "  SELECT\n",
    "    name,\n",
    "    market_cap_usd\n",
    "  FROM\n",
    "    `coin_data.caps`\n",
    "  LIMIT 100\n",
    ")\n",
    "SELECT SUM(market_cap_usd) as sum_market_cap_100 from top100"
   ]
  },
  {
   "cell_type": "code",
   "execution_count": 57,
   "metadata": {
    "collapsed": false
   },
   "outputs": [
    {
     "data": {
      "text/html": [
       "\n",
       "    <div class=\"bqtv\" id=\"4_152053345591\"><table><tr><th>sum_market_cap_100</th></tr><tr><td>3.70714220252e+11</td></tr></table></div>\n",
       "    <br />(rows: 1, time: 1.2s,   800B processed, job: job_dcRx0IVpReL_4CEatg_Zr3RPbkmd)<br />\n",
       "    <script src=\"/static/components/requirejs/require.js\"></script>\n",
       "    <script>\n",
       "      require.config({\n",
       "        paths: {\n",
       "          base: '/static/base',\n",
       "          d3: '//cdnjs.cloudflare.com/ajax/libs/d3/3.4.13/d3',\n",
       "          plotly: 'https://cdn.plot.ly/plotly-1.5.1.min.js?noext',\n",
       "          jquery: '//ajax.googleapis.com/ajax/libs/jquery/2.0.0/jquery.min'\n",
       "        },\n",
       "        map: {\n",
       "          '*': {\n",
       "            datalab: 'nbextensions/gcpdatalab'\n",
       "          }\n",
       "        },\n",
       "        shim: {\n",
       "          plotly: {\n",
       "            deps: ['d3', 'jquery'],\n",
       "            exports: 'plotly'\n",
       "          }\n",
       "        }\n",
       "      });\n",
       "\n",
       "      require(['datalab/charting', 'datalab/element!4_152053345591', 'base/js/events',\n",
       "          'datalab/style!/nbextensions/gcpdatalab/charting.css'],\n",
       "        function(charts, dom, events) {\n",
       "          charts.render('gcharts', dom, events, 'table', [], {\"rows\": [{\"c\": [{\"v\": 370714220252.0}]}], \"cols\": [{\"type\": \"number\", \"id\": \"sum_market_cap_100\", \"label\": \"sum_market_cap_100\"}]},\n",
       "            {\n",
       "              pageSize: 25,\n",
       "              cssClassNames:  {\n",
       "                tableRow: 'gchart-table-row',\n",
       "                headerRow: 'gchart-table-headerrow',\n",
       "                oddTableRow: 'gchart-table-oddrow',\n",
       "                selectedTableRow: 'gchart-table-selectedrow',\n",
       "                hoverTableRow: 'gchart-table-hoverrow',\n",
       "                tableCell: 'gchart-table-cell',\n",
       "                headerCell: 'gchart-table-headercell',\n",
       "                rowNumberCell: 'gchart-table-rownumcell'\n",
       "              }\n",
       "            },\n",
       "            {source_index: 3, fields: 'sum_market_cap_100'},\n",
       "            0,\n",
       "            1);\n",
       "        }\n",
       "      );\n",
       "    </script>\n",
       "  "
      ],
      "text/plain": [
       "QueryResultsTable job_dcRx0IVpReL_4CEatg_Zr3RPbkmd"
      ]
     },
     "execution_count": 57,
     "metadata": {},
     "output_type": "execute_result"
    }
   ],
   "source": [
    "%bq execute -q coin_data"
   ]
  },
  {
   "cell_type": "markdown",
   "metadata": {},
   "source": [
    "Do query from 6c) Which coins have an available supply less than $5M?"
   ]
  },
  {
   "cell_type": "code",
   "execution_count": 58,
   "metadata": {
    "collapsed": true
   },
   "outputs": [],
   "source": [
    "%%bq query -n coin_data\n",
    "SELECT name, available_supply from coin_data.caps\n",
    "WHERE available_supply < 5000000"
   ]
  },
  {
   "cell_type": "code",
   "execution_count": 59,
   "metadata": {
    "collapsed": false
   },
   "outputs": [
    {
     "data": {
      "text/html": [
       "\n",
       "    <div class=\"bqtv\" id=\"5_152053384071\"><table><tr><th>name</th><th>available_supply</th></tr><tr><td>DigixDAO</td><td>2000000.0</td></tr><tr><td>Maker</td><td>618228.0</td></tr><tr><td>Zcash</td><td>3435769.0</td></tr><tr><td>Byteball Bytes</td><td>645222.0</td></tr><tr><td>Veritaseum</td><td>2036645.0</td></tr><tr><td>Genesis Vision</td><td>3726781.0</td></tr><tr><td>ZCoin</td><td>4261755.0</td></tr></table></div>\n",
       "    <br />(rows: 7, time: 1.2s,     1KB processed, job: job_3yOTcWZuUlfn18o_z9j-q6W-4Mqi)<br />\n",
       "    <script src=\"/static/components/requirejs/require.js\"></script>\n",
       "    <script>\n",
       "      require.config({\n",
       "        paths: {\n",
       "          base: '/static/base',\n",
       "          d3: '//cdnjs.cloudflare.com/ajax/libs/d3/3.4.13/d3',\n",
       "          plotly: 'https://cdn.plot.ly/plotly-1.5.1.min.js?noext',\n",
       "          jquery: '//ajax.googleapis.com/ajax/libs/jquery/2.0.0/jquery.min'\n",
       "        },\n",
       "        map: {\n",
       "          '*': {\n",
       "            datalab: 'nbextensions/gcpdatalab'\n",
       "          }\n",
       "        },\n",
       "        shim: {\n",
       "          plotly: {\n",
       "            deps: ['d3', 'jquery'],\n",
       "            exports: 'plotly'\n",
       "          }\n",
       "        }\n",
       "      });\n",
       "\n",
       "      require(['datalab/charting', 'datalab/element!5_152053384071', 'base/js/events',\n",
       "          'datalab/style!/nbextensions/gcpdatalab/charting.css'],\n",
       "        function(charts, dom, events) {\n",
       "          charts.render('gcharts', dom, events, 'table', [], {\"rows\": [{\"c\": [{\"v\": \"DigixDAO\"}, {\"v\": 2000000.0}]}, {\"c\": [{\"v\": \"Maker\"}, {\"v\": 618228.0}]}, {\"c\": [{\"v\": \"Zcash\"}, {\"v\": 3435769.0}]}, {\"c\": [{\"v\": \"Byteball Bytes\"}, {\"v\": 645222.0}]}, {\"c\": [{\"v\": \"Veritaseum\"}, {\"v\": 2036645.0}]}, {\"c\": [{\"v\": \"Genesis Vision\"}, {\"v\": 3726781.0}]}, {\"c\": [{\"v\": \"ZCoin\"}, {\"v\": 4261755.0}]}], \"cols\": [{\"type\": \"string\", \"id\": \"name\", \"label\": \"name\"}, {\"type\": \"number\", \"id\": \"available_supply\", \"label\": \"available_supply\"}]},\n",
       "            {\n",
       "              pageSize: 25,\n",
       "              cssClassNames:  {\n",
       "                tableRow: 'gchart-table-row',\n",
       "                headerRow: 'gchart-table-headerrow',\n",
       "                oddTableRow: 'gchart-table-oddrow',\n",
       "                selectedTableRow: 'gchart-table-selectedrow',\n",
       "                hoverTableRow: 'gchart-table-hoverrow',\n",
       "                tableCell: 'gchart-table-cell',\n",
       "                headerCell: 'gchart-table-headercell',\n",
       "                rowNumberCell: 'gchart-table-rownumcell'\n",
       "              }\n",
       "            },\n",
       "            {source_index: 4, fields: 'name,available_supply'},\n",
       "            0,\n",
       "            7);\n",
       "        }\n",
       "      );\n",
       "    </script>\n",
       "  "
      ],
      "text/plain": [
       "QueryResultsTable job_3yOTcWZuUlfn18o_z9j-q6W-4Mqi"
      ]
     },
     "execution_count": 59,
     "metadata": {},
     "output_type": "execute_result"
    }
   ],
   "source": [
    "%bq execute -q coin_data"
   ]
  },
  {
   "cell_type": "markdown",
   "metadata": {},
   "source": [
    "Do query from 6d) Which 5 coins have seen the greatest percentage growth in the last week?"
   ]
  },
  {
   "cell_type": "code",
   "execution_count": 60,
   "metadata": {
    "collapsed": true
   },
   "outputs": [],
   "source": [
    "%%bq query -n coin_data\n",
    "SELECT name, percent_change_7d \n",
    "FROM coin_data.caps\n",
    "ORDER BY percent_change_7d DESC\n",
    "LIMIT 5"
   ]
  },
  {
   "cell_type": "code",
   "execution_count": 61,
   "metadata": {
    "collapsed": false
   },
   "outputs": [
    {
     "data": {
      "text/html": [
       "\n",
       "    <div class=\"bqtv\" id=\"6_152053407147\"><table><tr><th>name</th><th>percent_change_7d</th></tr><tr><td>Nexus</td><td>29.68</td></tr><tr><td>Genesis Vision</td><td>23.34</td></tr><tr><td>SIRIN LABS Token</td><td>15.02</td></tr><tr><td>Iconomi</td><td>3.42</td></tr><tr><td>Bytom</td><td>2.14</td></tr></table></div>\n",
       "    <br />(rows: 5, time: 1.1s,     1KB processed, job: job_ia8UHvaIVgjM_K_9ruT22ML_bDC8)<br />\n",
       "    <script src=\"/static/components/requirejs/require.js\"></script>\n",
       "    <script>\n",
       "      require.config({\n",
       "        paths: {\n",
       "          base: '/static/base',\n",
       "          d3: '//cdnjs.cloudflare.com/ajax/libs/d3/3.4.13/d3',\n",
       "          plotly: 'https://cdn.plot.ly/plotly-1.5.1.min.js?noext',\n",
       "          jquery: '//ajax.googleapis.com/ajax/libs/jquery/2.0.0/jquery.min'\n",
       "        },\n",
       "        map: {\n",
       "          '*': {\n",
       "            datalab: 'nbextensions/gcpdatalab'\n",
       "          }\n",
       "        },\n",
       "        shim: {\n",
       "          plotly: {\n",
       "            deps: ['d3', 'jquery'],\n",
       "            exports: 'plotly'\n",
       "          }\n",
       "        }\n",
       "      });\n",
       "\n",
       "      require(['datalab/charting', 'datalab/element!6_152053407147', 'base/js/events',\n",
       "          'datalab/style!/nbextensions/gcpdatalab/charting.css'],\n",
       "        function(charts, dom, events) {\n",
       "          charts.render('gcharts', dom, events, 'table', [], {\"rows\": [{\"c\": [{\"v\": \"Nexus\"}, {\"v\": 29.68}]}, {\"c\": [{\"v\": \"Genesis Vision\"}, {\"v\": 23.34}]}, {\"c\": [{\"v\": \"SIRIN LABS Token\"}, {\"v\": 15.02}]}, {\"c\": [{\"v\": \"Iconomi\"}, {\"v\": 3.42}]}, {\"c\": [{\"v\": \"Bytom\"}, {\"v\": 2.14}]}], \"cols\": [{\"type\": \"string\", \"id\": \"name\", \"label\": \"name\"}, {\"type\": \"number\", \"id\": \"percent_change_7d\", \"label\": \"percent_change_7d\"}]},\n",
       "            {\n",
       "              pageSize: 25,\n",
       "              cssClassNames:  {\n",
       "                tableRow: 'gchart-table-row',\n",
       "                headerRow: 'gchart-table-headerrow',\n",
       "                oddTableRow: 'gchart-table-oddrow',\n",
       "                selectedTableRow: 'gchart-table-selectedrow',\n",
       "                hoverTableRow: 'gchart-table-hoverrow',\n",
       "                tableCell: 'gchart-table-cell',\n",
       "                headerCell: 'gchart-table-headercell',\n",
       "                rowNumberCell: 'gchart-table-rownumcell'\n",
       "              }\n",
       "            },\n",
       "            {source_index: 5, fields: 'name,percent_change_7d'},\n",
       "            0,\n",
       "            5);\n",
       "        }\n",
       "      );\n",
       "    </script>\n",
       "  "
      ],
      "text/plain": [
       "QueryResultsTable job_ia8UHvaIVgjM_K_9ruT22ML_bDC8"
      ]
     },
     "execution_count": 61,
     "metadata": {},
     "output_type": "execute_result"
    }
   ],
   "source": [
    "%bq execute -q coin_data"
   ]
  },
  {
   "cell_type": "markdown",
   "metadata": {},
   "source": [
    "Do query from 6e) How many ticker symbols contain the letter \"X\"?"
   ]
  },
  {
   "cell_type": "code",
   "execution_count": 64,
   "metadata": {
    "collapsed": true
   },
   "outputs": [],
   "source": [
    "%%bq query -n coin_data\n",
    "SELECT COUNT(symbol) as symbol_has_x_count\n",
    "FROM coin_data.caps\n",
    "WHERE symbol LIKE '%X%'"
   ]
  },
  {
   "cell_type": "code",
   "execution_count": 65,
   "metadata": {
    "collapsed": false
   },
   "outputs": [
    {
     "data": {
      "text/html": [
       "\n",
       "    <div class=\"bqtv\" id=\"8_152053459488\"><table><tr><th>symbol_has_x_count</th></tr><tr><td>14</td></tr></table></div>\n",
       "    <br />(rows: 1, time: 1.0s,   534B processed, job: job_at79hd_4SqUOt-hLKeY2HriYSOBn)<br />\n",
       "    <script src=\"/static/components/requirejs/require.js\"></script>\n",
       "    <script>\n",
       "      require.config({\n",
       "        paths: {\n",
       "          base: '/static/base',\n",
       "          d3: '//cdnjs.cloudflare.com/ajax/libs/d3/3.4.13/d3',\n",
       "          plotly: 'https://cdn.plot.ly/plotly-1.5.1.min.js?noext',\n",
       "          jquery: '//ajax.googleapis.com/ajax/libs/jquery/2.0.0/jquery.min'\n",
       "        },\n",
       "        map: {\n",
       "          '*': {\n",
       "            datalab: 'nbextensions/gcpdatalab'\n",
       "          }\n",
       "        },\n",
       "        shim: {\n",
       "          plotly: {\n",
       "            deps: ['d3', 'jquery'],\n",
       "            exports: 'plotly'\n",
       "          }\n",
       "        }\n",
       "      });\n",
       "\n",
       "      require(['datalab/charting', 'datalab/element!8_152053459488', 'base/js/events',\n",
       "          'datalab/style!/nbextensions/gcpdatalab/charting.css'],\n",
       "        function(charts, dom, events) {\n",
       "          charts.render('gcharts', dom, events, 'table', [], {\"rows\": [{\"c\": [{\"v\": 14}]}], \"cols\": [{\"type\": \"number\", \"id\": \"symbol_has_x_count\", \"label\": \"symbol_has_x_count\"}]},\n",
       "            {\n",
       "              pageSize: 25,\n",
       "              cssClassNames:  {\n",
       "                tableRow: 'gchart-table-row',\n",
       "                headerRow: 'gchart-table-headerrow',\n",
       "                oddTableRow: 'gchart-table-oddrow',\n",
       "                selectedTableRow: 'gchart-table-selectedrow',\n",
       "                hoverTableRow: 'gchart-table-hoverrow',\n",
       "                tableCell: 'gchart-table-cell',\n",
       "                headerCell: 'gchart-table-headercell',\n",
       "                rowNumberCell: 'gchart-table-rownumcell'\n",
       "              }\n",
       "            },\n",
       "            {source_index: 7, fields: 'symbol_has_x_count'},\n",
       "            0,\n",
       "            1);\n",
       "        }\n",
       "      );\n",
       "    </script>\n",
       "  "
      ],
      "text/plain": [
       "QueryResultsTable job_at79hd_4SqUOt-hLKeY2HriYSOBn"
      ]
     },
     "execution_count": 65,
     "metadata": {},
     "output_type": "execute_result"
    }
   ],
   "source": [
    "%bq execute -q coin_data"
   ]
  },
  {
   "cell_type": "markdown",
   "metadata": {},
   "source": [
    "Do some cleanup to avoid billing fees..."
   ]
  },
  {
   "cell_type": "code",
   "execution_count": 67,
   "metadata": {
    "collapsed": false
   },
   "outputs": [
    {
     "ename": "Exception",
     "evalue": "Cannot delete non-existent dataset sage-webbing-197320.coin_data",
     "output_type": "error",
     "traceback": [
      "\u001b[0;31m\u001b[0m",
      "\u001b[0;31mException\u001b[0mTraceback (most recent call last)",
      "\u001b[0;32m<ipython-input-67-bd17f317e1f8>\u001b[0m in \u001b[0;36m<module>\u001b[0;34m()\u001b[0m\n\u001b[0;32m----> 1\u001b[0;31m \u001b[0mbq\u001b[0m\u001b[0;34m.\u001b[0m\u001b[0mDataset\u001b[0m\u001b[0;34m(\u001b[0m\u001b[0;34m'coin_data'\u001b[0m\u001b[0;34m)\u001b[0m\u001b[0;34m.\u001b[0m\u001b[0mdelete\u001b[0m\u001b[0;34m(\u001b[0m\u001b[0mdelete_contents\u001b[0m \u001b[0;34m=\u001b[0m \u001b[0mTrue\u001b[0m\u001b[0;34m)\u001b[0m\u001b[0;34m\u001b[0m\u001b[0m\n\u001b[0m",
      "\u001b[0;32m/usr/local/envs/py2env/lib/python2.7/site-packages/google/datalab/bigquery/_dataset.pyc\u001b[0m in \u001b[0;36mdelete\u001b[0;34m(self, delete_contents)\u001b[0m\n\u001b[1;32m    111\u001b[0m     \"\"\"\n\u001b[1;32m    112\u001b[0m     \u001b[0;32mif\u001b[0m \u001b[0;32mnot\u001b[0m \u001b[0mself\u001b[0m\u001b[0;34m.\u001b[0m\u001b[0mexists\u001b[0m\u001b[0;34m(\u001b[0m\u001b[0;34m)\u001b[0m\u001b[0;34m:\u001b[0m\u001b[0;34m\u001b[0m\u001b[0m\n\u001b[0;32m--> 113\u001b[0;31m       \u001b[0;32mraise\u001b[0m \u001b[0mException\u001b[0m\u001b[0;34m(\u001b[0m\u001b[0;34m'Cannot delete non-existent dataset %s'\u001b[0m \u001b[0;34m%\u001b[0m \u001b[0mself\u001b[0m\u001b[0;34m.\u001b[0m\u001b[0m_full_name\u001b[0m\u001b[0;34m)\u001b[0m\u001b[0;34m\u001b[0m\u001b[0m\n\u001b[0m\u001b[1;32m    114\u001b[0m     \u001b[0;32mtry\u001b[0m\u001b[0;34m:\u001b[0m\u001b[0;34m\u001b[0m\u001b[0m\n\u001b[1;32m    115\u001b[0m       \u001b[0mself\u001b[0m\u001b[0;34m.\u001b[0m\u001b[0m_api\u001b[0m\u001b[0;34m.\u001b[0m\u001b[0mdatasets_delete\u001b[0m\u001b[0;34m(\u001b[0m\u001b[0mself\u001b[0m\u001b[0;34m.\u001b[0m\u001b[0m_name_parts\u001b[0m\u001b[0;34m,\u001b[0m \u001b[0mdelete_contents\u001b[0m\u001b[0;34m=\u001b[0m\u001b[0mdelete_contents\u001b[0m\u001b[0;34m)\u001b[0m\u001b[0;34m\u001b[0m\u001b[0m\n",
      "\u001b[0;31mException\u001b[0m: Cannot delete non-existent dataset sage-webbing-197320.coin_data"
     ]
    }
   ],
   "source": [
    "bq.Dataset('coin_data').delete(delete_contents = True)"
   ]
  },
  {
   "cell_type": "code",
   "execution_count": null,
   "metadata": {
    "collapsed": true
   },
   "outputs": [],
   "source": []
  }
 ],
 "metadata": {
  "kernelspec": {
   "display_name": "Python 2",
   "language": "python",
   "name": "python2"
  },
  "language_info": {
   "codemirror_mode": {
    "name": "ipython",
    "version": 2
   },
   "file_extension": ".py",
   "mimetype": "text/x-python",
   "name": "python",
   "nbconvert_exporter": "python",
   "pygments_lexer": "ipython2",
   "version": "2.7.14"
  }
 },
 "nbformat": 4,
 "nbformat_minor": 2
}
